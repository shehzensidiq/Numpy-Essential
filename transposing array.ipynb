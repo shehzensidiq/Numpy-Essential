{
 "cells": [
  {
   "cell_type": "code",
   "execution_count": 2,
   "id": "280a7aa2-f798-414e-af3b-c967210019b6",
   "metadata": {},
   "outputs": [
    {
     "name": "stdout",
     "output_type": "stream",
     "text": [
      "[[1 2 3]\n",
      " [4 5 6]]\n"
     ]
    }
   ],
   "source": [
    "import numpy as np\n",
    "test_array = np.array([[1,2,3], [4,5,6]])\n",
    "print(test_array)"
   ]
  },
  {
   "cell_type": "code",
   "execution_count": 3,
   "id": "477f2d3a-8fa3-4abf-ae9a-9e1f62724205",
   "metadata": {},
   "outputs": [
    {
     "name": "stdout",
     "output_type": "stream",
     "text": [
      "[[1 4]\n",
      " [2 5]\n",
      " [3 6]]\n"
     ]
    }
   ],
   "source": [
    "# name_array.T\n",
    "trans_1 = test_array.T\n",
    "print(trans_1)"
   ]
  },
  {
   "cell_type": "code",
   "execution_count": 4,
   "id": "0e6c7f9a-93e5-4c99-8812-797d659b7225",
   "metadata": {},
   "outputs": [
    {
     "name": "stdout",
     "output_type": "stream",
     "text": [
      "[[1 4]\n",
      " [2 5]\n",
      " [3 6]]\n"
     ]
    }
   ],
   "source": [
    "trans_2 = np.transpose(test_array)\n",
    "print(trans_2)"
   ]
  },
  {
   "cell_type": "code",
   "execution_count": 5,
   "id": "27ffc1e5-ee1e-4a3c-8e71-7d19949dd342",
   "metadata": {},
   "outputs": [
    {
     "name": "stdout",
     "output_type": "stream",
     "text": [
      "[[1 4]\n",
      " [2 5]\n",
      " [3 6]]\n"
     ]
    }
   ],
   "source": [
    "trans_3 = test_array.transpose()\n",
    "print(trans_3)"
   ]
  },
  {
   "cell_type": "code",
   "execution_count": 8,
   "id": "89d0a184-35d7-47e3-9c04-7e2ac41d6d43",
   "metadata": {},
   "outputs": [
    {
     "name": "stdout",
     "output_type": "stream",
     "text": [
      "[[[  1   2   3]\n",
      "  [  5   6   7]]\n",
      "\n",
      " [[334  67  88]\n",
      "  [ 99  87  54]]]\n"
     ]
    }
   ],
   "source": [
    "three_d = np.array([[[1,2,3], [5,6,7]], [[334,67,88], [99,87,54]]])\n",
    "print(three_d)"
   ]
  },
  {
   "cell_type": "code",
   "execution_count": 10,
   "id": "c8029d74-1b92-4fe9-aeb5-08a5022be41a",
   "metadata": {},
   "outputs": [
    {
     "name": "stdout",
     "output_type": "stream",
     "text": [
      "(2, 2, 3)\n"
     ]
    }
   ],
   "source": [
    "print(three_d.shape)"
   ]
  },
  {
   "cell_type": "code",
   "execution_count": 11,
   "id": "cf5ad256-2c6c-4459-aac2-ada98ecd41ca",
   "metadata": {},
   "outputs": [],
   "source": [
    "tr_1 = three_d.T"
   ]
  },
  {
   "cell_type": "code",
   "execution_count": 12,
   "id": "ff650499-c6e2-410a-95f9-986def6be8f6",
   "metadata": {},
   "outputs": [
    {
     "data": {
      "text/plain": [
       "array([[[  1, 334],\n",
       "        [  5,  99]],\n",
       "\n",
       "       [[  2,  67],\n",
       "        [  6,  87]],\n",
       "\n",
       "       [[  3,  88],\n",
       "        [  7,  54]]])"
      ]
     },
     "execution_count": 12,
     "metadata": {},
     "output_type": "execute_result"
    }
   ],
   "source": [
    "tr_1"
   ]
  },
  {
   "cell_type": "code",
   "execution_count": 13,
   "id": "78ffc31c-5155-4763-b92e-16629790950c",
   "metadata": {},
   "outputs": [
    {
     "data": {
      "text/plain": [
       "(3, 2, 2)"
      ]
     },
     "execution_count": 13,
     "metadata": {},
     "output_type": "execute_result"
    }
   ],
   "source": [
    "tr_1.shape"
   ]
  },
  {
   "cell_type": "code",
   "execution_count": 14,
   "id": "541a36f5-dc80-4667-8f19-5899c66396b8",
   "metadata": {},
   "outputs": [
    {
     "data": {
      "text/plain": [
       "array([[[  1, 334],\n",
       "        [  5,  99]],\n",
       "\n",
       "       [[  2,  67],\n",
       "        [  6,  87]],\n",
       "\n",
       "       [[  3,  88],\n",
       "        [  7,  54]]])"
      ]
     },
     "execution_count": 14,
     "metadata": {},
     "output_type": "execute_result"
    }
   ],
   "source": [
    "tr_2 = three_d.transpose(2, 1, 0)\n",
    "# a:0, b:1, c:2 \n",
    "tr_2"
   ]
  },
  {
   "cell_type": "code",
   "execution_count": 15,
   "id": "b9b60369-5174-4db2-9061-a4c3952be576",
   "metadata": {},
   "outputs": [
    {
     "data": {
      "text/plain": [
       "array([[[  1, 334],\n",
       "        [  2,  67],\n",
       "        [  3,  88]],\n",
       "\n",
       "       [[  5,  99],\n",
       "        [  6,  87],\n",
       "        [  7,  54]]])"
      ]
     },
     "execution_count": 15,
     "metadata": {},
     "output_type": "execute_result"
    }
   ],
   "source": [
    "tr_2 = three_d.transpose(1, 2, 0)\n",
    "# a:0, b:1, c:2 \n",
    "tr_2"
   ]
  },
  {
   "cell_type": "code",
   "execution_count": null,
   "id": "17a75de7-96cf-4f84-a4f7-f964c67d4b61",
   "metadata": {},
   "outputs": [],
   "source": []
  }
 ],
 "metadata": {
  "kernelspec": {
   "display_name": "Python 3 (ipykernel)",
   "language": "python",
   "name": "python3"
  },
  "language_info": {
   "codemirror_mode": {
    "name": "ipython",
    "version": 3
   },
   "file_extension": ".py",
   "mimetype": "text/x-python",
   "name": "python",
   "nbconvert_exporter": "python",
   "pygments_lexer": "ipython3",
   "version": "3.10.0"
  }
 },
 "nbformat": 4,
 "nbformat_minor": 5
}
